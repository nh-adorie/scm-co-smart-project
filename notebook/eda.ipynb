{
 "cells": [
  {
   "cell_type": "code",
   "execution_count": 1,
   "id": "ed42a27f-ee3f-4b9f-8e6e-fc7ab62eed7d",
   "metadata": {},
   "outputs": [],
   "source": [
    "import pandas as pd\n",
    "import re"
   ]
  },
  {
   "cell_type": "code",
   "execution_count": 2,
   "id": "7b34f63a-af98-49ce-951c-750fb0ccb274",
   "metadata": {},
   "outputs": [],
   "source": [
    "# Load data\n",
    "df = pd.read_csv(\"/workspaces/scm-co-smart-project/data/raw/DataCoSupplyChainDataset.csv\", encoding = 'latin-1' )"
   ]
  },
  {
   "cell_type": "code",
   "execution_count": 3,
   "id": "03d4b0e9-03ba-4774-b98a-a5cd5e5edc2a",
   "metadata": {},
   "outputs": [
    {
     "name": "stdout",
     "output_type": "stream",
     "text": [
      "<class 'pandas.core.frame.DataFrame'>\n",
      "RangeIndex: 180519 entries, 0 to 180518\n",
      "Data columns (total 53 columns):\n",
      " #   Column                         Non-Null Count   Dtype  \n",
      "---  ------                         --------------   -----  \n",
      " 0   Type                           180519 non-null  object \n",
      " 1   Days for shipping (real)       180519 non-null  int64  \n",
      " 2   Days for shipment (scheduled)  180519 non-null  int64  \n",
      " 3   Benefit per order              180519 non-null  float64\n",
      " 4   Sales per customer             180519 non-null  float64\n",
      " 5   Delivery Status                180519 non-null  object \n",
      " 6   Late_delivery_risk             180519 non-null  int64  \n",
      " 7   Category Id                    180519 non-null  int64  \n",
      " 8   Category Name                  180519 non-null  object \n",
      " 9   Customer City                  180519 non-null  object \n",
      " 10  Customer Country               180519 non-null  object \n",
      " 11  Customer Email                 180519 non-null  object \n",
      " 12  Customer Fname                 180519 non-null  object \n",
      " 13  Customer Id                    180519 non-null  int64  \n",
      " 14  Customer Lname                 180511 non-null  object \n",
      " 15  Customer Password              180519 non-null  object \n",
      " 16  Customer Segment               180519 non-null  object \n",
      " 17  Customer State                 180519 non-null  object \n",
      " 18  Customer Street                180519 non-null  object \n",
      " 19  Customer Zipcode               180516 non-null  float64\n",
      " 20  Department Id                  180519 non-null  int64  \n",
      " 21  Department Name                180519 non-null  object \n",
      " 22  Latitude                       180519 non-null  float64\n",
      " 23  Longitude                      180519 non-null  float64\n",
      " 24  Market                         180519 non-null  object \n",
      " 25  Order City                     180519 non-null  object \n",
      " 26  Order Country                  180519 non-null  object \n",
      " 27  Order Customer Id              180519 non-null  int64  \n",
      " 28  order date (DateOrders)        180519 non-null  object \n",
      " 29  Order Id                       180519 non-null  int64  \n",
      " 30  Order Item Cardprod Id         180519 non-null  int64  \n",
      " 31  Order Item Discount            180519 non-null  float64\n",
      " 32  Order Item Discount Rate       180519 non-null  float64\n",
      " 33  Order Item Id                  180519 non-null  int64  \n",
      " 34  Order Item Product Price       180519 non-null  float64\n",
      " 35  Order Item Profit Ratio        180519 non-null  float64\n",
      " 36  Order Item Quantity            180519 non-null  int64  \n",
      " 37  Sales                          180519 non-null  float64\n",
      " 38  Order Item Total               180519 non-null  float64\n",
      " 39  Order Profit Per Order         180519 non-null  float64\n",
      " 40  Order Region                   180519 non-null  object \n",
      " 41  Order State                    180519 non-null  object \n",
      " 42  Order Status                   180519 non-null  object \n",
      " 43  Order Zipcode                  24840 non-null   float64\n",
      " 44  Product Card Id                180519 non-null  int64  \n",
      " 45  Product Category Id            180519 non-null  int64  \n",
      " 46  Product Description            0 non-null       float64\n",
      " 47  Product Image                  180519 non-null  object \n",
      " 48  Product Name                   180519 non-null  object \n",
      " 49  Product Price                  180519 non-null  float64\n",
      " 50  Product Status                 180519 non-null  int64  \n",
      " 51  shipping date (DateOrders)     180519 non-null  object \n",
      " 52  Shipping Mode                  180519 non-null  object \n",
      "dtypes: float64(15), int64(14), object(24)\n",
      "memory usage: 73.0+ MB\n"
     ]
    }
   ],
   "source": [
    "# Get basic info about the dataset\n",
    "df.info()"
   ]
  },
  {
   "cell_type": "code",
   "execution_count": 4,
   "id": "28c7e420-58e9-45bd-a83d-fa5226bc688f",
   "metadata": {},
   "outputs": [],
   "source": [
    "# Create function to rename columns' name\n",
    "def rename_column(name):\n",
    "    name = name.lower()\n",
    "    name = re.sub(r\"[^\\w]+\", \"_\", name)\n",
    "    name = name.strip(\"_\")\n",
    "    return name"
   ]
  },
  {
   "cell_type": "code",
   "execution_count": 7,
   "id": "ec4bfe8d-5515-4836-91a9-6b3e0ffa089a",
   "metadata": {},
   "outputs": [],
   "source": [
    "# rename columns\n",
    "df.columns = [rename_column(column) for column in df.columns]"
   ]
  },
  {
   "cell_type": "code",
   "execution_count": 11,
   "id": "e7883a7e-3274-439d-b1c5-50b4ccbd5414",
   "metadata": {},
   "outputs": [],
   "source": [
    "# rename columns: order_date_dateorders --> order_date and shipping_date_dateorders --> shipping_date\n",
    "df.rename(columns={'order_date_dateorders': 'order_date'}, inplace=True)\n",
    "df.rename(columns={'shipping_date_dateorders': 'shipping_date'}, inplace=True)"
   ]
  },
  {
   "cell_type": "code",
   "execution_count": 13,
   "id": "28e07a0e-a3c0-44a8-bfdd-712957c3ac19",
   "metadata": {},
   "outputs": [],
   "source": [
    "# convert date columns if needed\n",
    "df['order_date'] = pd.to_datetime(df['order_date'])\n",
    "df['shipping_date'] = pd.to_datetime(df['shipping_date'])"
   ]
  },
  {
   "cell_type": "code",
   "execution_count": 18,
   "id": "2c2463be-889b-4b97-badd-3b5f45fbc099",
   "metadata": {},
   "outputs": [
    {
     "data": {
      "text/plain": [
       "Index(['type', 'days_for_shipping_real', 'days_for_shipment_scheduled',\n",
       "       'benefit_per_order', 'sales_per_customer', 'delivery_status',\n",
       "       'late_delivery_risk', 'category_id', 'category_name', 'customer_city',\n",
       "       'customer_country', 'customer_email', 'customer_fname', 'customer_id',\n",
       "       'customer_lname', 'customer_password', 'customer_segment',\n",
       "       'customer_state', 'customer_street', 'customer_zipcode',\n",
       "       'department_id', 'department_name', 'latitude', 'longitude', 'market',\n",
       "       'order_city', 'order_country', 'order_customer_id', 'order_date',\n",
       "       'order_id', 'order_item_cardprod_id', 'order_item_discount',\n",
       "       'order_item_discount_rate', 'order_item_id', 'order_item_product_price',\n",
       "       'order_item_profit_ratio', 'order_item_quantity', 'sales',\n",
       "       'order_item_total', 'order_profit_per_order', 'order_region',\n",
       "       'order_state', 'order_status', 'order_zipcode', 'product_card_id',\n",
       "       'product_category_id', 'product_description', 'product_image',\n",
       "       'product_name', 'product_price', 'product_status', 'shipping_date',\n",
       "       'shipping_mode'],\n",
       "      dtype='object')"
      ]
     },
     "execution_count": 18,
     "metadata": {},
     "output_type": "execute_result"
    }
   ],
   "source": [
    "df.columns"
   ]
  },
  {
   "cell_type": "code",
   "execution_count": null,
   "id": "70195636-fbbd-4c3c-95ec-af63419a370e",
   "metadata": {},
   "outputs": [],
   "source": []
  }
 ],
 "metadata": {
  "kernelspec": {
   "display_name": "Python 3 (ipykernel)",
   "language": "python",
   "name": "python3"
  },
  "language_info": {
   "codemirror_mode": {
    "name": "ipython",
    "version": 3
   },
   "file_extension": ".py",
   "mimetype": "text/x-python",
   "name": "python",
   "nbconvert_exporter": "python",
   "pygments_lexer": "ipython3",
   "version": "3.11.13"
  }
 },
 "nbformat": 4,
 "nbformat_minor": 5
}
