{
 "cells": [
  {
   "cell_type": "code",
   "execution_count": 1,
   "id": "ed42a27f-ee3f-4b9f-8e6e-fc7ab62eed7d",
   "metadata": {},
   "outputs": [],
   "source": [
    "import pandas as pd\n",
    "import re\n",
    "import matplotlib.pyplot as plt"
   ]
  },
  {
   "cell_type": "code",
   "execution_count": 2,
   "id": "7b34f63a-af98-49ce-951c-750fb0ccb274",
   "metadata": {},
   "outputs": [],
   "source": [
    "# Load data\n",
    "df = pd.read_csv(\"/workspaces/scm-co-smart-project/data/raw/DataCoSupplyChainDataset.csv\", encoding = 'latin-1' )"
   ]
  },
  {
   "cell_type": "code",
   "execution_count": 3,
   "id": "03d4b0e9-03ba-4774-b98a-a5cd5e5edc2a",
   "metadata": {},
   "outputs": [
    {
     "name": "stdout",
     "output_type": "stream",
     "text": [
      "<class 'pandas.core.frame.DataFrame'>\n",
      "RangeIndex: 180519 entries, 0 to 180518\n",
      "Data columns (total 53 columns):\n",
      " #   Column                         Non-Null Count   Dtype  \n",
      "---  ------                         --------------   -----  \n",
      " 0   Type                           180519 non-null  object \n",
      " 1   Days for shipping (real)       180519 non-null  int64  \n",
      " 2   Days for shipment (scheduled)  180519 non-null  int64  \n",
      " 3   Benefit per order              180519 non-null  float64\n",
      " 4   Sales per customer             180519 non-null  float64\n",
      " 5   Delivery Status                180519 non-null  object \n",
      " 6   Late_delivery_risk             180519 non-null  int64  \n",
      " 7   Category Id                    180519 non-null  int64  \n",
      " 8   Category Name                  180519 non-null  object \n",
      " 9   Customer City                  180519 non-null  object \n",
      " 10  Customer Country               180519 non-null  object \n",
      " 11  Customer Email                 180519 non-null  object \n",
      " 12  Customer Fname                 180519 non-null  object \n",
      " 13  Customer Id                    180519 non-null  int64  \n",
      " 14  Customer Lname                 180511 non-null  object \n",
      " 15  Customer Password              180519 non-null  object \n",
      " 16  Customer Segment               180519 non-null  object \n",
      " 17  Customer State                 180519 non-null  object \n",
      " 18  Customer Street                180519 non-null  object \n",
      " 19  Customer Zipcode               180516 non-null  float64\n",
      " 20  Department Id                  180519 non-null  int64  \n",
      " 21  Department Name                180519 non-null  object \n",
      " 22  Latitude                       180519 non-null  float64\n",
      " 23  Longitude                      180519 non-null  float64\n",
      " 24  Market                         180519 non-null  object \n",
      " 25  Order City                     180519 non-null  object \n",
      " 26  Order Country                  180519 non-null  object \n",
      " 27  Order Customer Id              180519 non-null  int64  \n",
      " 28  order date (DateOrders)        180519 non-null  object \n",
      " 29  Order Id                       180519 non-null  int64  \n",
      " 30  Order Item Cardprod Id         180519 non-null  int64  \n",
      " 31  Order Item Discount            180519 non-null  float64\n",
      " 32  Order Item Discount Rate       180519 non-null  float64\n",
      " 33  Order Item Id                  180519 non-null  int64  \n",
      " 34  Order Item Product Price       180519 non-null  float64\n",
      " 35  Order Item Profit Ratio        180519 non-null  float64\n",
      " 36  Order Item Quantity            180519 non-null  int64  \n",
      " 37  Sales                          180519 non-null  float64\n",
      " 38  Order Item Total               180519 non-null  float64\n",
      " 39  Order Profit Per Order         180519 non-null  float64\n",
      " 40  Order Region                   180519 non-null  object \n",
      " 41  Order State                    180519 non-null  object \n",
      " 42  Order Status                   180519 non-null  object \n",
      " 43  Order Zipcode                  24840 non-null   float64\n",
      " 44  Product Card Id                180519 non-null  int64  \n",
      " 45  Product Category Id            180519 non-null  int64  \n",
      " 46  Product Description            0 non-null       float64\n",
      " 47  Product Image                  180519 non-null  object \n",
      " 48  Product Name                   180519 non-null  object \n",
      " 49  Product Price                  180519 non-null  float64\n",
      " 50  Product Status                 180519 non-null  int64  \n",
      " 51  shipping date (DateOrders)     180519 non-null  object \n",
      " 52  Shipping Mode                  180519 non-null  object \n",
      "dtypes: float64(15), int64(14), object(24)\n",
      "memory usage: 73.0+ MB\n"
     ]
    }
   ],
   "source": [
    "# Get basic info about the dataset\n",
    "df.info()"
   ]
  },
  {
   "cell_type": "code",
   "execution_count": 4,
   "id": "28c7e420-58e9-45bd-a83d-fa5226bc688f",
   "metadata": {},
   "outputs": [],
   "source": [
    "# Create function to rename columns' name\n",
    "def rename_column(name):\n",
    "    name = name.lower()\n",
    "    name = re.sub(r\"[^\\w]+\", \"_\", name)\n",
    "    name = name.strip(\"_\")\n",
    "    return name"
   ]
  },
  {
   "cell_type": "code",
   "execution_count": 5,
   "id": "ec4bfe8d-5515-4836-91a9-6b3e0ffa089a",
   "metadata": {},
   "outputs": [],
   "source": [
    "# rename columns\n",
    "df.columns = [rename_column(column) for column in df.columns]"
   ]
  },
  {
   "cell_type": "code",
   "execution_count": 6,
   "id": "e7883a7e-3274-439d-b1c5-50b4ccbd5414",
   "metadata": {},
   "outputs": [],
   "source": [
    "# rename columns: order_date_dateorders --> order_date and shipping_date_dateorders --> shipping_date\n",
    "df.rename(columns={'order_date_dateorders': 'order_date'}, inplace=True)\n",
    "df.rename(columns={'shipping_date_dateorders': 'shipping_date'}, inplace=True)"
   ]
  },
  {
   "cell_type": "code",
   "execution_count": 7,
   "id": "28e07a0e-a3c0-44a8-bfdd-712957c3ac19",
   "metadata": {},
   "outputs": [],
   "source": [
    "# convert date columns if needed\n",
    "df['order_date'] = pd.to_datetime(df['order_date'])\n",
    "df['shipping_date'] = pd.to_datetime(df['shipping_date'])"
   ]
  },
  {
   "cell_type": "code",
   "execution_count": 8,
   "id": "2c2463be-889b-4b97-badd-3b5f45fbc099",
   "metadata": {},
   "outputs": [
    {
     "data": {
      "text/plain": [
       "Index(['type', 'days_for_shipping_real', 'days_for_shipment_scheduled',\n",
       "       'benefit_per_order', 'sales_per_customer', 'delivery_status',\n",
       "       'late_delivery_risk', 'category_id', 'category_name', 'customer_city',\n",
       "       'customer_country', 'customer_email', 'customer_fname', 'customer_id',\n",
       "       'customer_lname', 'customer_password', 'customer_segment',\n",
       "       'customer_state', 'customer_street', 'customer_zipcode',\n",
       "       'department_id', 'department_name', 'latitude', 'longitude', 'market',\n",
       "       'order_city', 'order_country', 'order_customer_id', 'order_date',\n",
       "       'order_id', 'order_item_cardprod_id', 'order_item_discount',\n",
       "       'order_item_discount_rate', 'order_item_id', 'order_item_product_price',\n",
       "       'order_item_profit_ratio', 'order_item_quantity', 'sales',\n",
       "       'order_item_total', 'order_profit_per_order', 'order_region',\n",
       "       'order_state', 'order_status', 'order_zipcode', 'product_card_id',\n",
       "       'product_category_id', 'product_description', 'product_image',\n",
       "       'product_name', 'product_price', 'product_status', 'shipping_date',\n",
       "       'shipping_mode'],\n",
       "      dtype='object')"
      ]
     },
     "execution_count": 8,
     "metadata": {},
     "output_type": "execute_result"
    }
   ],
   "source": [
    "df.columns"
   ]
  },
  {
   "cell_type": "code",
   "execution_count": 9,
   "id": "70195636-fbbd-4c3c-95ec-af63419a370e",
   "metadata": {},
   "outputs": [
    {
     "name": "stdout",
     "output_type": "stream",
     "text": [
      "                     missing_values  missing_percent\n",
      "customer_lname                    8         0.004432\n",
      "customer_zipcode                  3         0.001662\n",
      "order_zipcode                155679        86.239676\n",
      "product_description          180519       100.000000\n"
     ]
    }
   ],
   "source": [
    "# detect missing values\n",
    "missing_values = df.isnull().sum()\n",
    "missing_percent = (missing_values / len(df)) * 100\n",
    "\n",
    "missing_table = pd.DataFrame({\n",
    "    \"missing_values\": missing_values,\n",
    "    \"missing_percent\": missing_percent\n",
    "})\n",
    "missing_table = missing_table[missing_table[\"missing_values\"] > 0]\n",
    "\n",
    "print(missing_table)"
   ]
  },
  {
   "cell_type": "code",
   "execution_count": 10,
   "id": "3429e5bd-50b6-4dbd-a9ea-006031df707c",
   "metadata": {},
   "outputs": [],
   "source": [
    "# for customer_lname and customer_zipcode --> MCAR\n",
    "df = df.dropna(subset=[\"customer_lname\", \"customer_zipcode\"])"
   ]
  },
  {
   "cell_type": "code",
   "execution_count": 11,
   "id": "cc013680-048d-4843-a226-c21fb31f0f4f",
   "metadata": {},
   "outputs": [],
   "source": [
    "# for product_description - no values --> drop the whole columns\n",
    "df = df.drop(['product_description'], axis = 1)"
   ]
  },
  {
   "cell_type": "code",
   "execution_count": 12,
   "id": "34b12095-917c-4d04-aee4-1d48060d9a69",
   "metadata": {},
   "outputs": [],
   "source": [
    "# for order_zipcode - optional data field --> drop the whole columns\n",
    "df = df.drop(['order_zipcode'], axis = 1)"
   ]
  },
  {
   "cell_type": "code",
   "execution_count": 13,
   "id": "34337fe9-3ea9-470e-8d7b-cb97985f5d97",
   "metadata": {},
   "outputs": [],
   "source": [
    "# Customers related columns analysis\n",
    "# drop unnecessary columns\n",
    "df = df.drop(['customer_email' , 'customer_password'], axis = 1)"
   ]
  },
  {
   "cell_type": "code",
   "execution_count": 14,
   "id": "324df941-056f-4c2e-aecf-e085fd12b683",
   "metadata": {},
   "outputs": [
    {
     "data": {
      "text/plain": [
       "customer_country\n",
       "EE. UU.        111137\n",
       "Puerto Rico     69371\n",
       "Name: count, dtype: int64"
      ]
     },
     "execution_count": 14,
     "metadata": {},
     "output_type": "execute_result"
    }
   ],
   "source": [
    "# Frequency count in customer_country\n",
    "df['customer_country'].value_counts()"
   ]
  },
  {
   "cell_type": "code",
   "execution_count": 15,
   "id": "2dae11db-7382-4c09-8974-b38e94ee9792",
   "metadata": {},
   "outputs": [],
   "source": [
    "# Find out that all customers come from the USA --> can drop the customer_country column\n",
    "df = df.drop(['customer_country'], axis = 1)"
   ]
  },
  {
   "cell_type": "code",
   "execution_count": 23,
   "id": "aac958ce-3ba5-484f-bed1-a17c50370988",
   "metadata": {},
   "outputs": [],
   "source": [
    "# Frequency count in customer_state\n",
    "state_count = df['customer_state'].value_counts()\n",
    "state_percent = (state_count / len(df)) * 100\n",
    "state_table = pd.DataFrame({\n",
    "    \"state_count\": state_count,\n",
    "    \"state_percent\": state_percent\n",
    "})"
   ]
  },
  {
   "cell_type": "code",
   "execution_count": null,
   "id": "bbf37363-f6ee-49e6-a2d4-ca5ae6d2040c",
   "metadata": {},
   "outputs": [],
   "source": [
    "# Bar chart for Customer - States Distribution\n",
    "plt.figure(figsize=(5,3))\n",
    "state_count.head(20).plot(kind='bar', color = 'skyblue')\n",
    "plt.title(\"Top 20 Customer - States Distribution\")\n",
    "plt.xlabel(\"State\")\n",
    "plt.ylabel(\"Number of Customers\")\n",
    "plt.show()"
   ]
  },
  {
   "cell_type": "code",
   "execution_count": null,
   "id": "e7ecb11f-73c7-47cf-8874-7643e36d6497",
   "metadata": {},
   "outputs": [],
   "source": [
    "# Order related columns analysis\n",
    "\n",
    "# order_status\n",
    "df['order_status'].value_counts()\n",
    "order_status_count = df['order_status'].value_counts()\n",
    "\n",
    "# bar chart for Order Status Distribution\n",
    "plt.figure(figsize=(5,3))\n",
    "order_status_count.plot(kind='barh', color='skyblue')\n",
    "plt.title(\"Order Status Distribution\")\n",
    "plt.xlabel(\"Number of Orders\")\n",
    "plt.ylabel(\"Order Status\")\n",
    "plt.gca().invert_yaxis()\n",
    "plt.show()"
   ]
  },
  {
   "cell_type": "code",
   "execution_count": null,
   "id": "2e9495b4-40b1-4a70-9f38-7b2e2f0b3843",
   "metadata": {},
   "outputs": [],
   "source": [
    "# order_region \n",
    "df['order_region'].value_counts()\n",
    "region_count = df['order_region'].value_counts()\n",
    "\n",
    "# bar chart for Order Region Distribution\n",
    "plt.figure(figsize=(5,3))\n",
    "region_count.plot(kind='barh', color='skyblue')\n",
    "plt.title(\"Order Region Distribution\")\n",
    "plt.xlabel(\"Number of Orders\")\n",
    "plt.ylabel(\"Region\")\n",
    "plt.gca().invert_yaxis()  # region lớn nhất lên trên\n",
    "plt.show()"
   ]
  },
  {
   "cell_type": "code",
   "execution_count": 31,
   "id": "f1e6afab-c29e-4a29-a76e-d052141c5060",
   "metadata": {},
   "outputs": [],
   "source": [
    "# create new year, quarter, month, day_name, time columns\n",
    "df['order_year'] = df['order_date'].dt.year\n",
    "df['order_quarter'] = df['order_date'].dt.quarter\n",
    "df['order_month'] = df['order_date'].dt.month\n",
    "df['order_day_name'] = df['order_date'].dt.day_name()\n",
    "df['order_hour'] = df['order_date'].dt.hour"
   ]
  },
  {
   "cell_type": "code",
   "execution_count": 24,
   "id": "fe93097b-d9dc-4e23-aea1-be5049dc1bcc",
   "metadata": {},
   "outputs": [
    {
     "data": {
      "text/plain": [
       "order_year\n",
       "2015    62650\n",
       "2016    62550\n",
       "2017    53186\n",
       "2018     2122\n",
       "Name: count, dtype: int64"
      ]
     },
     "execution_count": 24,
     "metadata": {},
     "output_type": "execute_result"
    }
   ],
   "source": [
    "# frequency count in order_year --> the dataset is from 2015 - 2018\n",
    "df['order_year'].value_counts()"
   ]
  },
  {
   "cell_type": "code",
   "execution_count": 25,
   "id": "917b04cc-6e8c-45cc-a70a-98f5e3c5efcf",
   "metadata": {},
   "outputs": [
    {
     "data": {
      "text/plain": [
       "order_month\n",
       "1    2122\n",
       "Name: count, dtype: int64"
      ]
     },
     "execution_count": 25,
     "metadata": {},
     "output_type": "execute_result"
    }
   ],
   "source": [
    "# as 2018 order amount is less than previous year --> check --> 2018 Jan only \n",
    "df.loc[df['order_year'] == 2018, 'order_month'].value_counts()"
   ]
  },
  {
   "cell_type": "code",
   "execution_count": 35,
   "id": "d254d81e-5305-4d02-b922-4a73cb09d282",
   "metadata": {},
   "outputs": [
    {
     "data": {
      "image/png": "[encoded data removed]",
      "text/plain": [
       "<Figure size 500x300 with 1 Axes>"
      ]
     },
     "metadata": {},
     "output_type": "display_data"
    }
   ],
   "source": [
    "# bar chart for order_year\n",
    "plt.figure(figsize=(5,3))\n",
    "df['order_year'].value_counts().sort_index().plot(kind='bar')\n",
    "plt.title(\"Order amount by year\")\n",
    "plt.xlabel(\"Year\")\n",
    "plt.ylabel(\"Amount\")\n",
    "plt.show()"
   ]
  },
  {
   "cell_type": "code",
   "execution_count": 27,
   "id": "f54233f3-f7c3-4f80-8fdf-ad02c7228a0e",
   "metadata": {},
   "outputs": [
    {
     "data": {
      "text/plain": [
       "order_quarter\n",
       "1    48426\n",
       "3    47323\n",
       "2    46550\n",
       "4    38209\n",
       "Name: count, dtype: int64"
      ]
     },
     "execution_count": 27,
     "metadata": {},
     "output_type": "execute_result"
    }
   ],
   "source": [
    "# frequency count in order_quater\n",
    "df['order_quarter'].value_counts()"
   ]
  },
  {
   "cell_type": "code",
   "execution_count": 36,
   "id": "554c9b42-6be2-40cb-8941-1b5d769a833e",
   "metadata": {},
   "outputs": [
    {
     "data": {
      "image/png": "[encoded data removed]",
      "text/plain": [
       "<Figure size 500x300 with 1 Axes>"
      ]
     },
     "metadata": {},
     "output_type": "display_data"
    }
   ],
   "source": [
    "# bar chart for order_quarter\n",
    "plt.figure(figsize=(5,3))\n",
    "df['order_quarter'].value_counts().sort_index().plot(kind='bar')\n",
    "plt.title(\"Order amount by quarter\")\n",
    "plt.xlabel(\"Quarter\")\n",
    "plt.ylabel(\"Amount\")\n",
    "plt.show()"
   ]
  },
  {
   "cell_type": "code",
   "execution_count": 28,
   "id": "c5b19aa0-22c4-4710-8acd-98180a4f0589",
   "metadata": {},
   "outputs": [
    {
     "data": {
      "text/plain": [
       "order_month\n",
       "1     17978\n",
       "5     15976\n",
       "7     15922\n",
       "3     15919\n",
       "8     15912\n",
       "9     15489\n",
       "4     15435\n",
       "6     15139\n",
       "2     14529\n",
       "10    12953\n",
       "12    12759\n",
       "11    12497\n",
       "Name: count, dtype: int64"
      ]
     },
     "execution_count": 28,
     "metadata": {},
     "output_type": "execute_result"
    }
   ],
   "source": [
    "# frequency count in order_month\n",
    "df['order_month'].value_counts()"
   ]
  },
  {
   "cell_type": "code",
   "execution_count": 37,
   "id": "4666d25f-5014-4929-bb5d-bbb42043b8da",
   "metadata": {},
   "outputs": [
    {
     "data": {
      "image/png": "[encoded data removed]",
      "text/plain": [
       "<Figure size 500x300 with 1 Axes>"
      ]
     },
     "metadata": {},
     "output_type": "display_data"
    }
   ],
   "source": [
    "# bar chart for order_month\n",
    "plt.figure(figsize=(5,3))\n",
    "df['order_month'].value_counts().sort_index().plot(kind='bar')\n",
    "plt.title(\"Order amount by month\")\n",
    "plt.xlabel(\"Month\")\n",
    "plt.ylabel(\"Amount\")\n",
    "plt.show()"
   ]
  },
  {
   "cell_type": "code",
   "execution_count": 29,
   "id": "5d4c9c45-4bb9-4aae-821a-01eb5bac63c3",
   "metadata": {},
   "outputs": [
    {
     "data": {
      "text/plain": [
       "order_day_name\n",
       "Sunday       25945\n",
       "Friday       25925\n",
       "Saturday     25900\n",
       "Monday       25786\n",
       "Thursday     25748\n",
       "Tuesday      25619\n",
       "Wednesday    25585\n",
       "Name: count, dtype: int64"
      ]
     },
     "execution_count": 29,
     "metadata": {},
     "output_type": "execute_result"
    }
   ],
   "source": [
    "# frequency count in order_day_name\n",
    "df['order_day_name'].value_counts()"
   ]
  },
  {
   "cell_type": "code",
   "execution_count": 39,
   "id": "3c9f9036-dd42-422a-a8e7-89274540cfd6",
   "metadata": {},
   "outputs": [
    {
     "data": {
      "image/png": "[encoded data removed]",
      "text/plain": [
       "<Figure size 500x300 with 1 Axes>"
      ]
     },
     "metadata": {},
     "output_type": "display_data"
    }
   ],
   "source": [
    "# bar chart for order_day_name\n",
    "plt.figure(figsize=(5,3))\n",
    "df['order_day_name'].value_counts().reindex(\n",
    "    [\"Monday\",\"Tuesday\",\"Wednesday\",\"Thursday\",\"Friday\",\"Saturday\",\"Sunday\"]\n",
    ").plot(kind='bar')\n",
    "plt.title(\"Order amount by Day Name\")\n",
    "plt.xlabel(\"Day Name\")\n",
    "plt.ylabel(\"Amount\")\n",
    "plt.show()"
   ]
  },
  {
   "cell_type": "code",
   "execution_count": 32,
   "id": "82f610b3-e269-41fc-9bc8-66e7b33dd678",
   "metadata": {},
   "outputs": [
    {
     "data": {
      "text/plain": [
       "order_hour\n",
       "4     7719\n",
       "10    7697\n",
       "5     7591\n",
       "0     7589\n",
       "13    7578\n",
       "2     7574\n",
       "23    7573\n",
       "17    7573\n",
       "1     7558\n",
       "14    7555\n",
       "19    7552\n",
       "18    7533\n",
       "7     7517\n",
       "9     7505\n",
       "16    7500\n",
       "11    7497\n",
       "12    7486\n",
       "20    7480\n",
       "15    7471\n",
       "3     7440\n",
       "8     7434\n",
       "22    7418\n",
       "21    7398\n",
       "6     7270\n",
       "Name: count, dtype: int64"
      ]
     },
     "execution_count": 32,
     "metadata": {},
     "output_type": "execute_result"
    }
   ],
   "source": [
    "# frequency count in order_hour\n",
    "df['order_hour'].value_counts()"
   ]
  },
  {
   "cell_type": "code",
   "execution_count": 40,
   "id": "4407b9f4-e5c8-46d2-83e5-7d3def4aa83b",
   "metadata": {},
   "outputs": [
    {
     "data": {
      "image/png": "[encoded data removed]",
      "text/plain": [
       "<Figure size 500x300 with 1 Axes>"
      ]
     },
     "metadata": {},
     "output_type": "display_data"
    }
   ],
   "source": [
    "# bar chart for order_hour\n",
    "plt.figure(figsize=(5,3))\n",
    "df['order_hour'].value_counts().sort_index().plot(kind='bar')\n",
    "plt.title(\"Order amount by Hour\")\n",
    "plt.xlabel(\"Hour\")\n",
    "plt.ylabel(\"Amount\")\n",
    "plt.show()"
   ]
  },
  {
   "cell_type": "code",
   "execution_count": null,
   "id": "168b64f1-78df-431e-aa00-8296f128b227",
   "metadata": {},
   "outputs": [],
   "source": [
    "# → The order distributions across different quarters, months, days, and hours appear quite similar. \n",
    "# This suggests that the dataset may not reflect real-world seasonality or time-based trends, \n",
    "# but rather is a balanced sample created for study purposes."
   ]
  }
 ],
 "metadata": {
  "kernelspec": {
   "display_name": "Python 3 (ipykernel)",
   "language": "python",
   "name": "python3"
  },
  "language_info": {
   "codemirror_mode": {
    "name": "ipython",
    "version": 3
   },
   "file_extension": ".py",
   "mimetype": "text/x-python",
   "name": "python",
   "nbconvert_exporter": "python",
   "pygments_lexer": "ipython3",
   "version": "3.11.13"
  }
 },
 "nbformat": 4,
 "nbformat_minor": 5
}
